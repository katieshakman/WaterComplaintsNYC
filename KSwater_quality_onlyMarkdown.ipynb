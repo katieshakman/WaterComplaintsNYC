{
 "cells": [
  {
   "cell_type": "markdown",
   "metadata": {
    "nbpresent": {
     "id": "1911df15-8b33-4e35-b786-4dbaaaa89d21"
    }
   },
   "source": [
    "# Exploring Water Quality Complaints\n",
    "\n",
    "### Author: Katie Shakman \n",
    "\n",
    "I noticed a number of times during the winter that there was dark water flowing from our sink's faucet.  Not for very long, just a few seconds and usually when the water temperature was set to hot, but I hadn't noticed this at all in the summer.  I wondered if water complaints like this might be more common in the colder months, when there is presumably more damage to pipes from freezing weather.  I decided to try to find some water quality data for the city and explore it for possible seasonal fluctuations or geographic patterns.\n",
    "\n",
    "I started by downloading the Water Complaints from NYC Open Data.  To work with the data, I decided to use Python 3 in a Jupyter notebook.  To begin, I wanted to visualize the data and answer a few basic questions about it.\n",
    "\n",
    "----------------------------------------------------------------------------------------------\n"
   ]
  },
  {
   "cell_type": "markdown",
   "metadata": {},
   "source": [
    "### What kinds of complaints are people making? "
   ]
  },
  {
   "cell_type": "markdown",
   "metadata": {
    "collapsed": false
   },
   "source": [
    "<img src=\"what_complaints.png\" width=\"100%\">"
   ]
  },
  {
   "cell_type": "markdown",
   "metadata": {},
   "source": [
    "### Water Complaints By Geographical Area\n",
    "\n",
    "Question: Where are water quality complaints coming from in the city?\n",
    "\n",
    "One way to visualize the complaints geographically is to plot a scatter of the complaints by location (latitude and longitude).  Let's see if the incidents appear to cluster by latitude & longitude: \n"
   ]
  },
  {
   "cell_type": "markdown",
   "metadata": {
    "collapsed": false
   },
   "source": [
    "#### Water complaints plotted by latitude and longitude."
   ]
  },
  {
   "cell_type": "markdown",
   "metadata": {
    "collapsed": false,
    "scrolled": true
   },
   "source": [
    "<img src=\"by_location.png\" width=\"100%\">"
   ]
  },
  {
   "cell_type": "markdown",
   "metadata": {},
   "source": [
    "We can immediately see that the scattered data seem to come from all 5 boroughs: we can see the shapes of the Bronx and Manhattan (NW blob), Queens and Brooklyn (central/E blob, and SE strip corresponding to The Rockaways barrier islands), and Staten Island (SW).\n",
    "\n",
    "We can color-code the map by borough to make it clearer which complaints come from which regions:"
   ]
  },
  {
   "cell_type": "markdown",
   "metadata": {
    "collapsed": false,
    "scrolled": false
   },
   "source": [
    "<img src=\"by_location_colorByBorough.png\" width=\"90%\">"
   ]
  },
  {
   "cell_type": "markdown",
   "metadata": {},
   "source": [
    "We might want to see if any of these boroughs has dramatically more complaints than another.  \n",
    "To address that, we can start by getting the counts of complaints by borough, and visualizing them as a bar plot: "
   ]
  },
  {
   "cell_type": "markdown",
   "metadata": {
    "collapsed": false
   },
   "source": [
    "<img src=\"complaint_count_byBorough.png\" width=\"120%\">"
   ]
  },
  {
   "cell_type": "markdown",
   "metadata": {},
   "source": [
    "We might wonder if certain areas are more prone to certain types of complaints.  We can use the \"Descriptor\" column to color-code the datapoints and we get a map like this:"
   ]
  },
  {
   "cell_type": "markdown",
   "metadata": {
    "collapsed": false
   },
   "source": [
    "<img src=\"byLocation_ColorByDescriptorAll.png\" width=\"120%\">"
   ]
  },
  {
   "cell_type": "markdown",
   "metadata": {},
   "source": [
    "From this color-coded plot, it appears that Manhattan and nearby areas of Brooklyn and Queens have a high density of taste/odor complaints (bluer colors). However, it's hard to really see the breakdown just from this plot, given the high density of complaints in certain areas.  We can break it down into subplots by borough: "
   ]
  },
  {
   "cell_type": "markdown",
   "metadata": {
    "collapsed": false
   },
   "source": [
    "<img src=\"barByBorough_ColorByDescriptorAll.png\" width=\"120%\">"
   ]
  },
  {
   "cell_type": "markdown",
   "metadata": {},
   "source": [
    "I wanted to normalize the number of complaints to the population per borough, so I also downloaded NYC OpenData's census table. \n",
    "\n",
    "After dividing each borough's complaints count by the 2010 census population for that borough (one could argue that a more recent population estimate would have been better, but the 2010 census should be an OK approximation), we get the updated bar plot:  "
   ]
  },
  {
   "cell_type": "markdown",
   "metadata": {
    "collapsed": false
   },
   "source": [
    "Let's get a bar plot to see which areas have the most complaints, normalized by population.\n",
    "<img src=\"NumComplaintsByBoroughNormBy2010Pop.png\" width=\"100%\">"
   ]
  },
  {
   "cell_type": "markdown",
   "metadata": {},
   "source": [
    "Now we can see that Staten Island has the most water quality complaints per capita, followed by Manhattan. "
   ]
  },
  {
   "cell_type": "markdown",
   "metadata": {},
   "source": [
    "### Water Complaints Over Time"
   ]
  },
  {
   "cell_type": "markdown",
   "metadata": {},
   "source": [
    "When did the complaints come in?  Do they correspond to the major hurricanes? \n",
    "<img src=\"NumberOfComplaintsByDayAnnotated.png\" width=\"80%\">"
   ]
  },
  {
   "cell_type": "markdown",
   "metadata": {},
   "source": [
    "The times of highest complaint frequency seem not to be directly after major hurricanes.  Instead, it looks like there is a slight increase in complaints during the spring and summer. "
   ]
  },
  {
   "cell_type": "markdown",
   "metadata": {},
   "source": [
    "Let's see what we get when we optimize a cosine function to fit the latter half of the data (which seemed to have fewer outliers): \n",
    "<img src=\"FitCosine.png\" width=\"80%\">"
   ]
  },
  {
   "cell_type": "markdown",
   "metadata": {},
   "source": [
    "It looks like there is some periodicity (our optimized function is not too flat), but it's not that pronounced (the amplitude of our optimized curve is lower than our initial guess).  It looks like on average there are about 4 complaints per day, and that doesn't seem to be highly dependent on what time of year it is.  Perhaps it takes a really serious water problem to get New Yorkers to call in, and those don't happen seasonally.  Probably indicative of a well maintained water supply system!\n",
    "\n",
    "Note that the data was fit without any dates having a value of zero.  We might get a high-amplitude fit if we filled in the missing dates with zeros.  \n",
    "\n",
    "Also, some of the calls were requests for information (\"No sampling required...\"), and these entries could be removed and the data reanalyzed.  May also want to color points on lat/long plot to see if certain types of complaints come mainly from certain areas (also certain times is of interest).  Can probably use a dummy variable from the call notes for this.  Or without a dummy var, a nice way to do this with seaborn is shown here: \n",
    "\n",
    "As a future question, it would be fun to explore how this periodicity (or lack thereof) compares to water quality trends at the beaches, which we might expect to be much more seasonal (due to e.g. increased growth of bacteria during warmer months, without the tight control of water filtration systems used in the municipal water supply). "
   ]
  },
  {
   "cell_type": "markdown",
   "metadata": {},
   "source": [
    "## Sources\n",
    "\n",
    "Data: <br>\n",
    "https://opendata.cityofnewyork.us <br>\n",
    "OpenData's Water Quality complaints (Originally retrieved 3/12/2017): <br>\n",
    "https://data.cityofnewyork.us/Environment/Water-Quality-complaints/qfe3-6dknNYC <br>\n",
    "New York City Population By Boroughs (Retrieved 5/13/2017): <br>\n",
    "https://data.cityofnewyork.us/City-Government/New-York-City-Population-By-Boroughs/9mhd-na2n <br>\n",
    "\n",
    "Tips and Other Resources: <br>\n",
    "http://www.stackoverflow.com/ <br>\n",
    "https://python-graph-gallery.com/ <br>"
   ]
  },
  {
   "cell_type": "code",
   "execution_count": null,
   "metadata": {
    "collapsed": true
   },
   "outputs": [],
   "source": []
  }
 ],
 "metadata": {
  "anaconda-cloud": {},
  "kernelspec": {
   "display_name": "Python [conda root]",
   "language": "python",
   "name": "conda-root-py"
  },
  "language_info": {
   "codemirror_mode": {
    "name": "ipython",
    "version": 3
   },
   "file_extension": ".py",
   "mimetype": "text/x-python",
   "name": "python",
   "nbconvert_exporter": "python",
   "pygments_lexer": "ipython3",
   "version": "3.5.2"
  },
  "nbpresent": {
   "slides": {
    "106c7719-778a-4835-b424-77d36560393a": {
     "id": "106c7719-778a-4835-b424-77d36560393a",
     "prev": null,
     "regions": {
      "1b50ba7d-0bda-4672-a5a7-979f8caac733": {
       "attrs": {
        "height": 1,
        "width": 1,
        "x": 0,
        "y": 0
       },
       "content": {
        "cell": "3c5f791d-d763-4718-a40d-86e42f9376c4",
        "part": "source"
       },
       "id": "1b50ba7d-0bda-4672-a5a7-979f8caac733"
      }
     }
    },
    "14bc0c29-be0b-41b5-8e42-0811b3796bda": {
     "id": "14bc0c29-be0b-41b5-8e42-0811b3796bda",
     "prev": "b18151e2-2989-4fab-a939-37ea69d1121e",
     "regions": {
      "36926849-1b77-4e1c-860b-684f31cb7f23": {
       "attrs": {
        "height": 1,
        "width": 1,
        "x": 0,
        "y": 0
       },
       "content": {
        "cell": "4c1fc199-5fa6-435f-a982-de48ade85d8b",
        "part": "outputs"
       },
       "id": "36926849-1b77-4e1c-860b-684f31cb7f23"
      }
     }
    },
    "5e9350b3-f248-417c-bc7a-4f040ce22d75": {
     "id": "5e9350b3-f248-417c-bc7a-4f040ce22d75",
     "prev": "e1494426-9ada-49d0-86b1-fe15b0e1c330",
     "regions": {
      "41448912-4fe7-4ae2-97f6-9e28f13d5ad7": {
       "attrs": {
        "height": 1,
        "width": 1,
        "x": 0,
        "y": 0
       },
       "content": null,
       "id": "41448912-4fe7-4ae2-97f6-9e28f13d5ad7"
      }
     }
    },
    "b18151e2-2989-4fab-a939-37ea69d1121e": {
     "id": "b18151e2-2989-4fab-a939-37ea69d1121e",
     "layout": "grid",
     "prev": "106c7719-778a-4835-b424-77d36560393a",
     "regions": {}
    },
    "e1494426-9ada-49d0-86b1-fe15b0e1c330": {
     "id": "e1494426-9ada-49d0-86b1-fe15b0e1c330",
     "prev": "14bc0c29-be0b-41b5-8e42-0811b3796bda",
     "regions": {}
    }
   },
   "themes": {}
  }
 },
 "nbformat": 4,
 "nbformat_minor": 2
}
